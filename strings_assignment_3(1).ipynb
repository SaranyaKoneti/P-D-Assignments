{
  "cells": [
    {
      "cell_type": "markdown",
      "metadata": {
        "id": "q8RkYTES1QUW"
      },
      "source": [
        "1.Write a Python program to count the number of vowels in a string.\n",
        "\n",
        "input : hasdfgeuionhjl"
      ]
    },
    {
      "cell_type": "code",
      "execution_count": 2,
      "metadata": {
        "id": "UHi6ezjV1X0s"
      },
      "outputs": [
        {
          "name": "stdout",
          "output_type": "stream",
          "text": [
            "5\n"
          ]
        }
      ],
      "source": [
        "input=\"hasdfgeuionhjl\"\n",
        "vowels = \"aeiouAEIOU\"\n",
        "total = sum(input.count(vowel) for vowel in vowels)\n",
        "print(total)\n"
      ]
    },
    {
      "cell_type": "markdown",
      "metadata": {
        "id": "v7GBEK161QWy"
      },
      "source": [
        "2.Write a Python program to count the occurrences of each word in a sentence.\n",
        "\n",
        "input : hi hello hi and and hi more and more programming"
      ]
    },
    {
      "cell_type": "code",
      "execution_count": 2,
      "metadata": {
        "id": "R-UzDybK1uZo"
      },
      "outputs": [],
      "source": [
        "# write your code here"
      ]
    },
    {
      "cell_type": "markdown",
      "metadata": {
        "id": "evCcw-0H1QY9"
      },
      "source": [
        "3.In python how can you differentiate strings and lists. Give atleast 5 different comparisons between them."
      ]
    },
    {
      "cell_type": "markdown",
      "metadata": {
        "id": "OfiTI0pv1QbU"
      },
      "source": [
        "Answer:1.Strings are enclosed in \"\" and list are enclosed in []\n",
        "       2.concatenating of strings will merge while concatenating the lists will combine\n",
        "       3.Strings are not mutable while lists aremmutable.\n",
        "       4.A string is a sequence of characters and integers while lists consists of integers,strings,boolean,float,etc.\n",
        "       5.comparison can be done in strings while in list are not\n"
      ]
    },
    {
      "cell_type": "markdown",
      "metadata": {
        "id": "riR1PWxG1Qdq"
      },
      "source": [
        "4.Write a string for your own of approximately 40 in length and perform any 5 different string operations on that."
      ]
    },
    {
      "cell_type": "code",
      "execution_count": 29,
      "metadata": {
        "id": "3bHyrDS12e8i"
      },
      "outputs": [
        {
          "name": "stdout",
          "output_type": "stream",
          "text": [
            "60\n",
            "Hi This Is Vani And I Am A Sales Executive From The Lorenzo.\n",
            "HI THIS IS VANI AND I AM A SALES EXECUTIVE FROM THE LORENZO.\n",
            "hi this is vani and i am a sales executive from the lorenzo.\n",
            "5\n"
          ]
        }
      ],
      "source": [
        "str=\"Hi this is Vani and I am a sales executive from the lorenzo.\"\n",
        "r=len(str)\n",
        "print(r)\n",
        "r=str.title()\n",
        "print(r)\n",
        "r=str.upper()\n",
        "print(r)\n",
        "r=str.lower()\n",
        "print(r)\n",
        "r=str.count(\"i\",1,59)\n",
        "print(r)\n",
        "\n",
        "\n"
      ]
    },
    {
      "cell_type": "markdown",
      "metadata": {
        "id": "bbUm7VVN1Qfu"
      },
      "source": [
        "5.Explain the concatination in strings with a neat example."
      ]
    },
    {
      "cell_type": "code",
      "execution_count": 30,
      "metadata": {
        "id": "y9292Q452tF0"
      },
      "outputs": [
        {
          "name": "stdout",
          "output_type": "stream",
          "text": [
            "hihlo\n"
          ]
        }
      ],
      "source": [
        "a=\"hi\"\n",
        "b=\"hlo\"\n",
        "print(a+b)"
      ]
    },
    {
      "cell_type": "code",
      "execution_count": null,
      "metadata": {
        "id": "vnMNtJgq2xuG"
      },
      "outputs": [],
      "source": []
    }
  ],
  "metadata": {
    "colab": {
      "provenance": []
    },
    "kernelspec": {
      "display_name": "Python 3",
      "name": "python3"
    },
    "language_info": {
      "codemirror_mode": {
        "name": "ipython",
        "version": 3
      },
      "file_extension": ".py",
      "mimetype": "text/x-python",
      "name": "python",
      "nbconvert_exporter": "python",
      "pygments_lexer": "ipython3",
      "version": "3.13.1"
    }
  },
  "nbformat": 4,
  "nbformat_minor": 0
}
