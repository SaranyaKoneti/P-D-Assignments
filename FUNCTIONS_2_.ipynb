{
  "cells": [
    {
      "cell_type": "markdown",
      "metadata": {
        "id": "iW-mnZaZRsWX"
      },
      "source": [
        "*** USE THE CONCEPT OF FUNCTIONS TO SOLVE THE BELOW PROGRAMMING QUESTIONS ***"
      ]
    },
    {
      "cell_type": "markdown",
      "metadata": {
        "id": "gZjDc6eiRsYf"
      },
      "source": [
        "1) Write a Python function that accepts a string and counts the number of upper and lower case letters.\n",
        "\n",
        "Sample String : 'The quick Brow Fox'\n",
        "\n",
        "Expected Output :\n",
        "\n",
        "No. of Upper case characters : 3\n",
        "\n",
        "No. of Lower case Characters : 12"
      ]
    },
    {
      "cell_type": "code",
      "execution_count": 1,
      "metadata": {
        "id": "wGtk-weiR-5t"
      },
      "outputs": [
        {
          "name": "stdout",
          "output_type": "stream",
          "text": [
            "Upper: 3\n",
            "Lower: 12\n"
          ]
        }
      ],
      "source": [
        "def count_upper_lower(s):\n",
        "  upper = 0\n",
        "  lower = 0\n",
        "  for char in s:\n",
        "    if char.isupper():\n",
        "      upper += 1\n",
        "    elif char.islower():\n",
        "      lower += 1\n",
        "  print(\"Upper:\", upper)\n",
        "  print(\"Lower:\", lower)\n",
        "\n",
        "count_upper_lower(\"The quick Brow Fox\")"
      ]
    },
    {
      "cell_type": "markdown",
      "metadata": {
        "id": "bmt7_PqqRsaw"
      },
      "source": [
        "2) Write a Python function that takes a list and returns a new list with distinct elements from the first list.\n",
        "\n",
        "Sample List : [1,2,3,3,3,3,4,5]\n",
        "\n",
        "Unique List : [1, 2, 3, 4, 5]"
      ]
    },
    {
      "cell_type": "code",
      "execution_count": 2,
      "metadata": {
        "id": "Za2S_kbzSQJZ"
      },
      "outputs": [
        {
          "name": "stdout",
          "output_type": "stream",
          "text": [
            "[1, 2, 3, 4, 5]\n"
          ]
        }
      ],
      "source": [
        "def unique_list(lst):\n",
        "  return list(set(lst))\n",
        "\n",
        "my_list = [1, 2, 3, 3, 3, 3, 4, 5]\n",
        "print(unique_list(my_list))"
      ]
    },
    {
      "cell_type": "markdown",
      "metadata": {
        "id": "adx-jfbnRsdC"
      },
      "source": [
        "3) Write a Python function that takes a number as a parameter and checks whether the number is prime or not.\n",
        "\n",
        "Note : A prime number (or a prime) is a natural number greater than 1 and that has no positive divisors other than 1 and itself."
      ]
    },
    {
      "cell_type": "code",
      "execution_count": 3,
      "metadata": {
        "id": "RaBolJpSSa4N"
      },
      "outputs": [
        {
          "name": "stdout",
          "output_type": "stream",
          "text": [
            "True\n",
            "False\n"
          ]
        }
      ],
      "source": [
        "def is_prime(n):\n",
        "  if n <= 1:\n",
        "    return False\n",
        "  for i in range(2, int(n**0.5) + 1):\n",
        "    if n % i == 0:\n",
        "      return False\n",
        "  return True\n",
        "print(is_prime(7))  \n",
        "print(is_prime(10))"
      ]
    },
    {
      "cell_type": "markdown",
      "metadata": {
        "id": "P2i2bBwIRsfQ"
      },
      "source": [
        "4)Write a Python program to print the even numbers from a given list.\n",
        "\n",
        "Sample List : [1, 2, 3, 4, 5, 6, 7, 8, 9]\n",
        "\n",
        "Expected Result : [2, 4, 6, 8]\n"
      ]
    },
    {
      "cell_type": "code",
      "execution_count": 4,
      "metadata": {
        "id": "32Rk_UCp_pAT"
      },
      "outputs": [
        {
          "name": "stdout",
          "output_type": "stream",
          "text": [
            "[2, 4, 6, 8]\n"
          ]
        }
      ],
      "source": [
        "def get_evens(numbers):\n",
        "  return [num for num in numbers if num % 2 == 0]\n",
        "\n",
        "my_list = [1, 2, 3, 4, 5, 6, 7, 8, 9]\n",
        "print(get_evens(my_list))"
      ]
    },
    {
      "cell_type": "markdown",
      "metadata": {
        "id": "kaTTpignRsh7"
      },
      "source": [
        "5) Write a Python function to check whether a string is a pangram or not.\n",
        "\n",
        "Note : Pangrams are words or sentences containing every letter of the alphabet at least once.\n",
        "\n",
        "For example : \"The quick brown fox jumps over the lazy dog\""
      ]
    },
    {
      "cell_type": "code",
      "execution_count": 5,
      "metadata": {
        "id": "EHEntu3P_5s8"
      },
      "outputs": [
        {
          "name": "stdout",
          "output_type": "stream",
          "text": [
            "True\n",
            "False\n"
          ]
        }
      ],
      "source": [
        "import string\n",
        "\n",
        "def is_pangram(s):\n",
        "  s = s.lower()\n",
        "  return set(string.ascii_lowercase) <= set(s)\n",
        "\n",
        "print(is_pangram(\"The quick brown fox jumps over the lazy dog\"))\n",
        "print(is_pangram(\"Hello world\"))\n"
      ]
    },
    {
      "cell_type": "markdown",
      "metadata": {
        "id": "3InqavJfRslk"
      },
      "source": []
    }
  ],
  "metadata": {
    "colab": {
      "provenance": []
    },
    "kernelspec": {
      "display_name": "Python 3",
      "name": "python3"
    },
    "language_info": {
      "codemirror_mode": {
        "name": "ipython",
        "version": 3
      },
      "file_extension": ".py",
      "mimetype": "text/x-python",
      "name": "python",
      "nbconvert_exporter": "python",
      "pygments_lexer": "ipython3",
      "version": "3.13.1"
    }
  },
  "nbformat": 4,
  "nbformat_minor": 0
}
