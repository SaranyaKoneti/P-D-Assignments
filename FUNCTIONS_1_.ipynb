{
  "cells": [
    {
      "cell_type": "markdown",
      "metadata": {
        "id": "Rg2ZBqGAQwAf"
      },
      "source": [
        "*** USE THE CONCEPT OF FUNCTIONS TO SOLVE THE BELOW PROGRAMMING QUESTIONS ***"
      ]
    },
    {
      "cell_type": "markdown",
      "metadata": {
        "id": "ScHTvbE1QwCo"
      },
      "source": [
        "1) Write a Python function to sum all the numbers in a list.\n",
        "\n",
        "Sample List : (8, 2, 3, 0, 7)\n",
        "\n",
        "Expected Output : 20\n"
      ]
    },
    {
      "cell_type": "code",
      "execution_count": 1,
      "metadata": {
        "id": "aR_k4uReQ8Og"
      },
      "outputs": [
        {
          "name": "stdout",
          "output_type": "stream",
          "text": [
            "20\n"
          ]
        }
      ],
      "source": [
        "def sum(numbers): \n",
        "    total = 0\n",
        "    for x in numbers:\n",
        "        total += x\n",
        "    return total\n",
        "print(sum((8, 2, 3, 0, 7))) \n"
      ]
    },
    {
      "cell_type": "markdown",
      "metadata": {
        "id": "dZtcDLjAQwE-"
      },
      "source": [
        "2) Write a Python function to multiply all the numbers in a list.\n",
        "\n",
        "Sample List : (8, 2, 3, -1, 7)\n",
        "\n",
        "Expected Output : -336"
      ]
    },
    {
      "cell_type": "code",
      "execution_count": 4,
      "metadata": {
        "id": "98uwoSPnRHyL"
      },
      "outputs": [
        {
          "name": "stdout",
          "output_type": "stream",
          "text": [
            "-336\n"
          ]
        }
      ],
      "source": [
        "def multiply(numbers):\n",
        "    total = 1\n",
        "    for x in numbers:\n",
        "        total *= x\n",
        "    return total\n",
        "print(multiply((8, 2, 3, -1, 7))) \n"
      ]
    },
    {
      "cell_type": "markdown",
      "metadata": {
        "id": "99G7rde1QwHN"
      },
      "source": [
        "3) Write a Python program to reverse a string.\n",
        "\n",
        "Sample String : \"1234abcd\"\n",
        "\n",
        "Expected Output : \"dcba4321\""
      ]
    },
    {
      "cell_type": "code",
      "execution_count": 5,
      "metadata": {
        "id": "6qmLELFCRQAD"
      },
      "outputs": [
        {
          "name": "stdout",
          "output_type": "stream",
          "text": [
            "dcba4321\n"
          ]
        }
      ],
      "source": [
        "def string_reverse(str1):\n",
        "    rstr1 = ''\n",
        "    index = len(str1)\n",
        "    while index > 0:\n",
        "        rstr1 += str1[index - 1]\n",
        "        index = index - 1\n",
        "    return rstr1\n",
        "print(string_reverse('1234abcd'))\n"
      ]
    },
    {
      "cell_type": "markdown",
      "metadata": {
        "id": "_XE8as7eQwJn"
      },
      "source": [
        "4) Write a Python function to calculate the factorial of a number (a non-negative integer). The function accepts the number as an argument."
      ]
    },
    {
      "cell_type": "code",
      "execution_count": 6,
      "metadata": {
        "id": "Di5n5kNARZdn"
      },
      "outputs": [
        {
          "name": "stdout",
          "output_type": "stream",
          "text": [
            "120\n"
          ]
        }
      ],
      "source": [
        "def factorial(n):\n",
        "  if n == 0:\n",
        "    return 1\n",
        "  result = 1\n",
        "  for i in range(1, n + 1):\n",
        "    result *= i\n",
        "  return result\n",
        "\n",
        "number = 5\n",
        "print(factorial(number))\n"
      ]
    },
    {
      "cell_type": "markdown",
      "metadata": {
        "id": "I2zyMS7XQwLx"
      },
      "source": [
        "5) Write a Python function to check whether a number falls within a given range."
      ]
    },
    {
      "cell_type": "code",
      "execution_count": 2,
      "metadata": {
        "id": "rouydHDQRgcc"
      },
      "outputs": [
        {
          "name": "stdout",
          "output_type": "stream",
          "text": [
            "5 is in the range\n"
          ]
        }
      ],
      "source": [
        "def test_range(n):\n",
        "    if n in range(3, 9):\n",
        "        print(\"%s is in the range\" % str(n))\n",
        "    else:\n",
        "        print(\"The number is outside the given range.\")\n",
        "test_range(5)\n"
      ]
    }
  ],
  "metadata": {
    "colab": {
      "provenance": []
    },
    "kernelspec": {
      "display_name": "Python 3",
      "name": "python3"
    },
    "language_info": {
      "codemirror_mode": {
        "name": "ipython",
        "version": 3
      },
      "file_extension": ".py",
      "mimetype": "text/x-python",
      "name": "python",
      "nbconvert_exporter": "python",
      "pygments_lexer": "ipython3",
      "version": "3.13.1"
    }
  },
  "nbformat": 4,
  "nbformat_minor": 0
}
