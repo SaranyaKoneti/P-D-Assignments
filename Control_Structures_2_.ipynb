{
  "cells": [
    {
      "cell_type": "markdown",
      "metadata": {
        "id": "LntIlHO5OfPf"
      },
      "source": [
        "*** USE THE CONCEPT OF LOOPS TO SOLVE THE BELOW PROGRAMS***"
      ]
    },
    {
      "cell_type": "markdown",
      "metadata": {
        "id": "vxHfbNtoOfRV"
      },
      "source": [
        "1) Python program to count the total number of digits in a number.\n",
        "\n",
        "TAKE THE INPUT NUMBER : 123456\n",
        "\n",
        "\n",
        "\n"
      ]
    },
    {
      "cell_type": "code",
      "execution_count": 1,
      "metadata": {
        "id": "_PKg5umLO2-q"
      },
      "outputs": [
        {
          "name": "stdout",
          "output_type": "stream",
          "text": [
            "6\n"
          ]
        }
      ],
      "source": [
        "def count_digits(number):\n",
        "    return len(str(number))\n",
        "num = 123456\n",
        "digit_count = count_digits(num)\n",
        "print( digit_count)"
      ]
    },
    {
      "cell_type": "markdown",
      "metadata": {
        "id": "bXf8Z8feOfTn"
      },
      "source": [
        "2) Python program to count the number of even and odd numbers from a series of numbers.\n",
        "\n",
        "num_list = [1,3,5,6,99,134,55]"
      ]
    },
    {
      "cell_type": "code",
      "execution_count": 2,
      "metadata": {
        "id": "QzZjjwRCPIip"
      },
      "outputs": [
        {
          "name": "stdout",
          "output_type": "stream",
          "text": [
            "Even numbers: 2\n",
            "Odd numbers: 5\n"
          ]
        }
      ],
      "source": [
        "num_list=[1,3,5,6,99,134,55]\n",
        "even = 0\n",
        "odd = 0\n",
        "for num in num_list:\n",
        "    if num % 2 == 0:  \n",
        "        even += 1\n",
        "    else:  \n",
        "        odd +=1\n",
        "print(\"Even numbers:\", even)\n",
        "print(\"Odd numbers:\", odd)\n",
        "\n"
      ]
    },
    {
      "cell_type": "markdown",
      "metadata": {
        "id": "Ae6CdE7hOfWZ"
      },
      "source": [
        "3) Python program to get the Fibonacci series between 0 to 50."
      ]
    },
    {
      "cell_type": "code",
      "execution_count": 5,
      "metadata": {
        "id": "_IIZYCLPPTwI"
      },
      "outputs": [
        {
          "name": "stdout",
          "output_type": "stream",
          "text": [
            "1 2 3 5 8 13 21 34 \n"
          ]
        }
      ],
      "source": [
        "n = 8\n",
        "num1 = 0\n",
        "num2 = 1\n",
        "next_number = num2  \n",
        "count = 1\n",
        "while count <= n:\n",
        "    print(next_number, end=\" \")\n",
        "    count += 1\n",
        "    num1, num2 = num2, next_number\n",
        "    next_number = num1 + num2\n",
        "print()\n"
      ]
    },
    {
      "cell_type": "markdown",
      "metadata": {
        "id": "VYbquVMROfZz"
      },
      "source": [
        "4) Python program that accepts a string and calculates the number of digits and letters.\n",
        "\n",
        "Input\n",
        "\n",
        "WEBBLINDERS1234"
      ]
    },
    {
      "cell_type": "code",
      "execution_count": 7,
      "metadata": {
        "id": "iGYeja7XPop3"
      },
      "outputs": [
        {
          "name": "stdout",
          "output_type": "stream",
          "text": [
            "Letters: 11\n",
            "Digits: 4\n"
          ]
        }
      ],
      "source": [
        "s = \"WEBBLINDERS1234\"\n",
        "l_c = 0\n",
        "d_c = 0\n",
        "for char in s:\n",
        "    if char.isalpha():  \n",
        "        l_c += 1\n",
        "    elif char.isdigit(): \n",
        "        d_c += 1\n",
        "print(f\"Letters: {l_c}\")\n",
        "print(f\"Digits: {d_c}\")\n"
      ]
    },
    {
      "cell_type": "markdown",
      "metadata": {
        "id": "RiVenPeDPqs_"
      },
      "source": [
        "5) Python program to display all numbers within a range except the prime numbers.\n",
        "\n",
        "INPUT RANGE : 30 TO 80"
      ]
    },
    {
      "cell_type": "code",
      "execution_count": 5,
      "metadata": {
        "id": "UTm21ayAPX02"
      },
      "outputs": [
        {
          "name": "stdout",
          "output_type": "stream",
          "text": [
            "Except Prime numbers between 30 and 80 are:\n",
            "even 30\n",
            "odd 30\n",
            "even 32\n",
            "odd 33\n",
            "even 34\n",
            "even 36\n",
            "odd 36\n",
            "even 38\n",
            "odd 39\n",
            "even 40\n",
            "even 42\n",
            "odd 42\n",
            "even 44\n",
            "odd 45\n",
            "even 46\n",
            "even 48\n",
            "odd 48\n",
            "even 50\n",
            "odd 51\n",
            "even 52\n",
            "even 54\n",
            "odd 54\n",
            "even 56\n",
            "odd 57\n",
            "even 58\n",
            "even 60\n",
            "odd 60\n",
            "even 62\n",
            "odd 63\n",
            "even 64\n",
            "even 66\n",
            "odd 66\n",
            "even 68\n",
            "odd 69\n",
            "even 70\n",
            "even 72\n",
            "odd 72\n",
            "even 74\n",
            "odd 75\n",
            "even 76\n",
            "even 78\n",
            "odd 78\n",
            "even 80\n"
          ]
        }
      ],
      "source": [
        "\n",
        "lower = 30\n",
        "upper = 80\n",
        "print(\"Except Prime numbers between\", lower, \"and\", upper, \"are:\")\n",
        "for num in range(lower, upper + 1):\n",
        "    if num > 1:\n",
        "       if(num%2==0):\n",
        "           print(\"even\",num)\n",
        "       if(num%3==0):\n",
        "           print(\"odd\",num)\n",
        "        "
      ]
    }
  ],
  "metadata": {
    "colab": {
      "provenance": []
    },
    "kernelspec": {
      "display_name": "Python 3",
      "name": "python3"
    },
    "language_info": {
      "codemirror_mode": {
        "name": "ipython",
        "version": 3
      },
      "file_extension": ".py",
      "mimetype": "text/x-python",
      "name": "python",
      "nbconvert_exporter": "python",
      "pygments_lexer": "ipython3",
      "version": "3.13.1"
    }
  },
  "nbformat": 4,
  "nbformat_minor": 0
}
