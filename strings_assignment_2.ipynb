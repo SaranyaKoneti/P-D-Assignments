{
  "cells": [
    {
      "cell_type": "markdown",
      "metadata": {
        "id": "EPGLodluvWuN"
      },
      "source": [
        "## Strings Assignment 2"
      ]
    },
    {
      "cell_type": "markdown",
      "metadata": {
        "id": "ddM5gMtivkoi"
      },
      "source": [
        "1.Write a Python program to reverse a string.\n",
        "\n",
        "input : hellohowareyoudoingandhowisyourhealth"
      ]
    },
    {
      "cell_type": "code",
      "execution_count": 2,
      "metadata": {
        "id": "RnP576ZZvtLH"
      },
      "outputs": [
        {
          "name": "stdout",
          "output_type": "stream",
          "text": [
            "htlaehruoysiwohdnagnioduoyerawoholleh\n"
          ]
        }
      ],
      "source": [
        "input=\"hellohowareyoudoingandhowisyourhealth\"[::-1]\n",
        "print(input)"
      ]
    },
    {
      "cell_type": "markdown",
      "metadata": {
        "id": "jEVFoo3evnhr"
      },
      "source": [
        "2.Write a Python program to capitalize the first letter of each word in a sentence.\n",
        "\n",
        "input : hello welcome to internship"
      ]
    },
    {
      "cell_type": "code",
      "execution_count": 3,
      "metadata": {
        "id": "CTP3QwiGwT93"
      },
      "outputs": [
        {
          "name": "stdout",
          "output_type": "stream",
          "text": [
            "Hello Welcome To Internship\n"
          ]
        }
      ],
      "source": [
        "\n",
        "\n",
        "input=\"hello welcome to internship\"\n",
        "print(input.title())\n"
      ]
    },
    {
      "cell_type": "markdown",
      "metadata": {
        "id": "LiGvyCoVvnyC"
      },
      "source": [
        "3.Write a Python program to find the longest word in a sentence.\n",
        "\n",
        "input : \"he is very good at painting and paint good sketches\""
      ]
    },
    {
      "cell_type": "code",
      "execution_count": 6,
      "metadata": {
        "id": "clATuC3cwwPI"
      },
      "outputs": [
        {
          "name": "stdout",
          "output_type": "stream",
          "text": [
            "painting\n"
          ]
        }
      ],
      "source": [
        "input=\"he is very good at painting and paint good sketches\"\n",
        "words=input.split()\n",
        "res=\"\"\n",
        "for word in words:\n",
        "  if len(word) > len(res):\n",
        "        res = word\n",
        "print(res)"
      ]
    },
    {
      "cell_type": "markdown",
      "metadata": {
        "id": "-QhCplQjvn0w"
      },
      "source": [
        "4.Write a Python program to find the length of the last word in a sentence.\n",
        "\n",
        "input : this is the most beautiful beach I ever visited"
      ]
    },
    {
      "cell_type": "code",
      "execution_count": 8,
      "metadata": {
        "id": "QwzbahlkxGZ-"
      },
      "outputs": [
        {
          "name": "stdout",
          "output_type": "stream",
          "text": [
            "visited\n"
          ]
        }
      ],
      "source": [
        "input=\"this is the most beautiful beach I ever visited\"\n",
        "last= input.split()[-1]\n",
        "print(last)"
      ]
    },
    {
      "cell_type": "markdown",
      "metadata": {
        "id": "cZiXxZhsvn6q"
      },
      "source": [
        "5.Write a Python program to find the second most frequent character in a string.\n",
        "\n",
        "input: the hospital is very big and this hospital has so many doctors"
      ]
    },
    {
      "cell_type": "code",
      "execution_count": null,
      "metadata": {
        "id": "EnHquuoCxi7F"
      },
      "outputs": [],
      "source": [
        "input=\"the hospital is very big and this hospital has so many doctors\"\n"
      ]
    }
  ],
  "metadata": {
    "colab": {
      "provenance": [],
      "toc_visible": true
    },
    "kernelspec": {
      "display_name": "Python 3",
      "name": "python3"
    },
    "language_info": {
      "codemirror_mode": {
        "name": "ipython",
        "version": 3
      },
      "file_extension": ".py",
      "mimetype": "text/x-python",
      "name": "python",
      "nbconvert_exporter": "python",
      "pygments_lexer": "ipython3",
      "version": "3.13.1"
    }
  },
  "nbformat": 4,
  "nbformat_minor": 0
}
